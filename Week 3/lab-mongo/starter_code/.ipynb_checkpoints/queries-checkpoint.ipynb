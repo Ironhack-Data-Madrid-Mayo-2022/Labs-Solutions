{
 "cells": [
  {
   "cell_type": "markdown",
   "metadata": {},
   "source": [
    "![Ironhack Logo](https://i.imgur.com/1QgrNNw.png)"
   ]
  },
  {
   "cell_type": "markdown",
   "metadata": {
    "toc": true
   },
   "source": [
    "<h1>Table of Contents<span class=\"tocSkip\"></span></h1>\n",
    "<div class=\"toc\"><ul class=\"toc-item\"><li><span><a href=\"#Answers\" data-toc-modified-id=\"Answers-1\"><span class=\"toc-item-num\">1&nbsp;&nbsp;</span>Answers</a></span><ul class=\"toc-item\"><li><ul class=\"toc-item\"><li><span><a href=\"#1.-All-the-companies-that-it's-name-match-'Babelgum'.-Retrieve-only-their-name-field.\" data-toc-modified-id=\"1.-All-the-companies-that-it's-name-match-'Babelgum'.-Retrieve-only-their-name-field.-1.0.1\"><span class=\"toc-item-num\">1.0.1&nbsp;&nbsp;</span>1. All the companies that it's name match 'Babelgum'. Retrieve only their <code>name</code> field.</a></span></li><li><span><a href=\"#2.-All-the-companies-that-have-more-than-5000-employees.-Limit-the-search-to-20-companies-and-sort-them-by-number-of-employees.\" data-toc-modified-id=\"2.-All-the-companies-that-have-more-than-5000-employees.-Limit-the-search-to-20-companies-and-sort-them-by-number-of-employees.-1.0.2\"><span class=\"toc-item-num\">1.0.2&nbsp;&nbsp;</span>2. All the companies that have more than 5000 employees. Limit the search to 20 companies and sort them by <strong>number of employees</strong>.</a></span></li><li><span><a href=\"#3.-All-the-companies-founded-between-2000-and-2005,-both-years-included.-Retrieve-only-the-name-and-founded_year-fileds.\" data-toc-modified-id=\"3.-All-the-companies-founded-between-2000-and-2005,-both-years-included.-Retrieve-only-the-name-and-founded_year-fileds.-1.0.3\"><span class=\"toc-item-num\">1.0.3&nbsp;&nbsp;</span>3. All the companies founded between 2000 and 2005, both years included. Retrieve only the <code>name</code> and <code>founded_year</code> fileds.</a></span></li><li><span><a href=\"#4.-All-the-companies-that-had-a-Valuation-Amount-of-more-than-100.000.000-and-have-been-founded-before-2010.-Retrieve-only-the-name-and-ipo-fields.\" data-toc-modified-id=\"4.-All-the-companies-that-had-a-Valuation-Amount-of-more-than-100.000.000-and-have-been-founded-before-2010.-Retrieve-only-the-name-and-ipo-fields.-1.0.4\"><span class=\"toc-item-num\">1.0.4&nbsp;&nbsp;</span>4. All the companies that had a Valuation Amount of more than 100.000.000 and have been founded before 2010. Retrieve only the <code>name</code> and <code>ipo</code> fields.</a></span></li><li><span><a href=\"#5.-All-the-companies-that-have-less-than-1000-employees-and-have-been-founded-before-2005.-Order-them-by-the-number-of-employees-and-limit-the-search-to-10-companies.\" data-toc-modified-id=\"5.-All-the-companies-that-have-less-than-1000-employees-and-have-been-founded-before-2005.-Order-them-by-the-number-of-employees-and-limit-the-search-to-10-companies.-1.0.5\"><span class=\"toc-item-num\">1.0.5&nbsp;&nbsp;</span>5. All the companies that have less than 1000 employees and have been founded before 2005. Order them by the number of employees and limit the search to 10 companies.</a></span></li><li><span><a href=\"#6.-All-the-companies-that-don't-include-the-partners-field.\" data-toc-modified-id=\"6.-All-the-companies-that-don't-include-the-partners-field.-1.0.6\"><span class=\"toc-item-num\">1.0.6&nbsp;&nbsp;</span>6. All the companies that don't include the <code>partners</code> field.</a></span></li><li><span><a href=\"#7.-All-the-companies-that-have-a-null-type-of-value-on-the-category_code-field.\" data-toc-modified-id=\"7.-All-the-companies-that-have-a-null-type-of-value-on-the-category_code-field.-1.0.7\"><span class=\"toc-item-num\">1.0.7&nbsp;&nbsp;</span>7. All the companies that have a null type of value on the <code>category_code</code> field.</a></span></li><li><span><a href=\"#8.-All-the-companies-that-have-at-least-100-employees-but-less-than-1000.-Retrieve-only-the-name-and-number-of-employees-fields.\" data-toc-modified-id=\"8.-All-the-companies-that-have-at-least-100-employees-but-less-than-1000.-Retrieve-only-the-name-and-number-of-employees-fields.-1.0.8\"><span class=\"toc-item-num\">1.0.8&nbsp;&nbsp;</span>8. All the companies that have at least 100 employees but less than 1000. Retrieve only the <code>name</code> and <code>number of employees</code> fields.</a></span></li><li><span><a href=\"#9.-Order-all-the-companies-by-their-IPO-price-descendently.\" data-toc-modified-id=\"9.-Order-all-the-companies-by-their-IPO-price-descendently.-1.0.9\"><span class=\"toc-item-num\">1.0.9&nbsp;&nbsp;</span>9. Order all the companies by their IPO price descendently.</a></span></li><li><span><a href=\"#10.-Retrieve-the-10-companies-with-more-employees,-order-by-the-number-of-employees\" data-toc-modified-id=\"10.-Retrieve-the-10-companies-with-more-employees,-order-by-the-number-of-employees-1.0.10\"><span class=\"toc-item-num\">1.0.10&nbsp;&nbsp;</span>10. Retrieve the 10 companies with more employees, order by the <code>number of employees</code></a></span></li></ul></li></ul></li></ul></div>"
   ]
  },
  {
   "cell_type": "code",
   "execution_count": 5,
   "metadata": {},
   "outputs": [],
   "source": [
    "from pymongo import MongoClient\n",
    "client=MongoClient()\n",
    "db=client.companies"
   ]
  },
  {
   "cell_type": "code",
   "execution_count": 7,
   "metadata": {},
   "outputs": [
    {
     "data": {
      "text/plain": [
       "[{'name': 'companies',\n",
       "  'type': 'collection',\n",
       "  'options': {},\n",
       "  'info': {'readOnly': False,\n",
       "   'uuid': UUID('1cde0c3d-3db8-41c5-aff8-e8fbbb3bb0dd')},\n",
       "  'idIndex': {'v': 2, 'key': {'_id': 1}, 'name': '_id_'}}]"
      ]
     },
     "execution_count": 7,
     "metadata": {},
     "output_type": "execute_result"
    }
   ],
   "source": [
    "list(db.list_collections())"
   ]
  },
  {
   "cell_type": "markdown",
   "metadata": {},
   "source": [
    "# Answers\n",
    "### 1. All the companies that it's name match 'Babelgum'. Retrieve only their `name` field."
   ]
  },
  {
   "cell_type": "code",
   "execution_count": 9,
   "metadata": {},
   "outputs": [
    {
     "data": {
      "text/plain": [
       "{'name': {'$eq': 'Babelgum'}}"
      ]
     },
     "execution_count": 9,
     "metadata": {},
     "output_type": "execute_result"
    }
   ],
   "source": [
    "query = {\"name\":{\"$eq\":\"Babelgum\"}}\n",
    "query"
   ]
  },
  {
   "cell_type": "markdown",
   "metadata": {},
   "source": [
    "### 2. All the companies that have more than 5000 employees. Limit the search to 20 companies and sort them by **number of employees**."
   ]
  },
  {
   "cell_type": "code",
   "execution_count": 13,
   "metadata": {},
   "outputs": [],
   "source": [
    "query2 = {\"number_of_employees\":{\"$gte\":5000}}\n",
    "list2 = list(db[\"companies\"].find(query2).sort(\"number_of_employees\",1).limit(20))\n",
    "#list2[0]\n",
    "#I don't print it because it would be infinite"
   ]
  },
  {
   "cell_type": "markdown",
   "metadata": {},
   "source": [
    "### 3. All the companies founded between 2000 and 2005, both years included. Retrieve only the `name` and `founded_year` fileds."
   ]
  },
  {
   "cell_type": "code",
   "execution_count": 14,
   "metadata": {},
   "outputs": [
    {
     "data": {
      "text/plain": [
       "[{'name': 'Wetpaint', 'founded_year': 2005},\n",
       " {'name': 'Zoho', 'founded_year': 2005},\n",
       " {'name': 'Digg', 'founded_year': 2004},\n",
       " {'name': 'Facebook', 'founded_year': 2004},\n",
       " {'name': 'Omnidrive', 'founded_year': 2005}]"
      ]
     },
     "execution_count": 14,
     "metadata": {},
     "output_type": "execute_result"
    }
   ],
   "source": [
    "query3 = {\"$and\":[{\"founded_year\":{\"$gte\":2000}},{\"founded_year\":{\"$lte\":2005}}]}\n",
    "list(db[\"companies\"].find(query3,{\"_id\":0,\"name\":1,\"founded_year\":1}).limit(5))"
   ]
  },
  {
   "cell_type": "markdown",
   "metadata": {},
   "source": [
    "### 4. All the companies that had a Valuation Amount of more than 100.000.000 and have been founded before 2010. Retrieve only the `name` and `ipo` fields."
   ]
  },
  {
   "cell_type": "code",
   "execution_count": 15,
   "metadata": {},
   "outputs": [
    {
     "data": {
      "text/plain": [
       "[{'name': 'Yelp', 'ipo': {'valuation_amount': 1300000000}},\n",
       " {'name': 'Brightcove', 'ipo': {'valuation_amount': 290000000}},\n",
       " {'name': 'Facebook', 'ipo': {'valuation_amount': 104000000000}},\n",
       " {'name': 'Twitter', 'ipo': {'valuation_amount': 18100000000}},\n",
       " {'name': 'LinkedIn', 'ipo': {'valuation_amount': 9310000000}}]"
      ]
     },
     "execution_count": 15,
     "metadata": {},
     "output_type": "execute_result"
    }
   ],
   "source": [
    "query4 = {\"$and\":[{\"ipo.valuation_amount\":{\"$gte\":100000000}}, {\"founded_year\":{\"$gte\":2000}}]}\n",
    "list(db[\"companies\"].find(query4,{\"_id\":0,\"name\":1,\"ipo.valuation_amount\":1}).sort(\"nipo.valuation_amount\",-1).limit(5))"
   ]
  },
  {
   "cell_type": "markdown",
   "metadata": {},
   "source": [
    "### 5. All the companies that have less than 1000 employees and have been founded before 2005. Order them by the number of employees and limit the search to 10 companies."
   ]
  },
  {
   "cell_type": "code",
   "execution_count": 16,
   "metadata": {},
   "outputs": [
    {
     "data": {
      "text/plain": [
       "[{'name': 'Omniture', 'number_of_employees': 1000, 'founded_year': 1996},\n",
       " {'name': 'Telenav', 'number_of_employees': 1000, 'founded_year': 1999},\n",
       " {'name': 'Gumtree', 'number_of_employees': 1000, 'founded_year': 2005},\n",
       " {'name': 'SK Net Service Company Ltd',\n",
       "  'number_of_employees': 1000,\n",
       "  'founded_year': 2001},\n",
       " {'name': 'Yodle', 'number_of_employees': 1000, 'founded_year': 2005},\n",
       " {'name': \"OC'LIANE\", 'number_of_employees': 1000, 'founded_year': 2003},\n",
       " {'name': 'FANUC Robotics America',\n",
       "  'number_of_employees': 1000,\n",
       "  'founded_year': 1982},\n",
       " {'name': 'Antal International',\n",
       "  'number_of_employees': 1000,\n",
       "  'founded_year': 1993},\n",
       " {'name': 'Sonus Networks', 'number_of_employees': 1000, 'founded_year': 1997},\n",
       " {'name': 'Akamai Technologies',\n",
       "  'number_of_employees': 1000,\n",
       "  'founded_year': 1998}]"
      ]
     },
     "execution_count": 16,
     "metadata": {},
     "output_type": "execute_result"
    }
   ],
   "source": [
    "query5 = {\"$and\":[{\"number_of_employees\":{\"$lte\":1000}}, {\"founded_year\":{\"$lte\":2005}}]}\n",
    "list(db[\"companies\"].find(query5,{\"_id\":0,\"name\":1,\"number_of_employees\":1, \"founded_year\":1}).sort(\"number_of_employees\",-1).limit(10))"
   ]
  },
  {
   "cell_type": "markdown",
   "metadata": {},
   "source": [
    "### 6. All the companies that don't include the `partners` field."
   ]
  },
  {
   "cell_type": "code",
   "execution_count": 17,
   "metadata": {},
   "outputs": [
    {
     "data": {
      "text/plain": [
       "[]"
      ]
     },
     "execution_count": 17,
     "metadata": {},
     "output_type": "execute_result"
    }
   ],
   "source": [
    "query6 = {\"partners\": {\"$exists\": False }}\n",
    "list(db[\"companies\"].find(query6))"
   ]
  },
  {
   "cell_type": "markdown",
   "metadata": {},
   "source": [
    "### 7. All the companies that have a null type of value on the `category_code` field."
   ]
  },
  {
   "cell_type": "code",
   "execution_count": 18,
   "metadata": {},
   "outputs": [
    {
     "data": {
      "text/plain": [
       "[{'name': 'Collective', 'category_code': None},\n",
       " {'name': 'Snimmer', 'category_code': None},\n",
       " {'name': 'KoolIM', 'category_code': None},\n",
       " {'name': 'Level9 Media', 'category_code': None},\n",
       " {'name': 'VidKing', 'category_code': None}]"
      ]
     },
     "execution_count": 18,
     "metadata": {},
     "output_type": "execute_result"
    }
   ],
   "source": [
    "query7 = {\"category_code\": { \"$type\": \"null\" }}\n",
    "list(db[\"companies\"].find(query7,{\"_id\":0,\"name\":1,\"category_code\":1}).limit(5))"
   ]
  },
  {
   "cell_type": "markdown",
   "metadata": {},
   "source": [
    "### 8. All the companies that have at least 100 employees but less than 1000. Retrieve only the `name` and `number of employees` fields."
   ]
  },
  {
   "cell_type": "code",
   "execution_count": 19,
   "metadata": {},
   "outputs": [
    {
     "data": {
      "text/plain": [
       "[{'name': 'AdventNet', 'number_of_employees': 600},\n",
       " {'name': 'AddThis', 'number_of_employees': 120},\n",
       " {'name': 'OpenX', 'number_of_employees': 305},\n",
       " {'name': 'LifeLock', 'number_of_employees': 644},\n",
       " {'name': 'Jajah', 'number_of_employees': 110}]"
      ]
     },
     "execution_count": 19,
     "metadata": {},
     "output_type": "execute_result"
    }
   ],
   "source": [
    "query8 = {\"$and\":[{\"number_of_employees\":{\"$gte\":100}}, {\"number_of_employees\":{\"$lte\":1000}}]}\n",
    "list(db[\"companies\"].find(query8,{\"_id\":0,\"name\":1,\"number_of_employees\":1}).limit(5))"
   ]
  },
  {
   "cell_type": "markdown",
   "metadata": {},
   "source": [
    "### 9. Order all the companies by their IPO price descendently."
   ]
  },
  {
   "cell_type": "code",
   "execution_count": 21,
   "metadata": {},
   "outputs": [
    {
     "data": {
      "text/plain": [
       "[{'name': 'GREE', 'ipo': {'valuation_amount': 108960000000}},\n",
       " {'name': 'Facebook', 'ipo': {'valuation_amount': 104000000000}},\n",
       " {'name': 'Amazon', 'ipo': {'valuation_amount': 100000000000}},\n",
       " {'name': 'Twitter', 'ipo': {'valuation_amount': 18100000000}},\n",
       " {'name': 'Groupon', 'ipo': {'valuation_amount': 12800000000}},\n",
       " {'name': 'Tencent', 'ipo': {'valuation_amount': 11000000000}},\n",
       " {'name': 'Western Digital', 'ipo': {'valuation_amount': 9430000000}},\n",
       " {'name': 'LinkedIn', 'ipo': {'valuation_amount': 9310000000}},\n",
       " {'name': 'BMC Software', 'ipo': {'valuation_amount': 6000000000}},\n",
       " {'name': 'Rackspace', 'ipo': {'valuation_amount': 5440000000}}]"
      ]
     },
     "execution_count": 21,
     "metadata": {},
     "output_type": "execute_result"
    }
   ],
   "source": [
    " query9= {\"ipo.valuation_amount\":{\"$gte\":0}}\n",
    "list(db[\"companies\"].find(query9,{\"_id\":0,\"name\":1,\"ipo.valuation_amount\":1}).sort(\"ipo.valuation_amount\",-1).limit(10))"
   ]
  },
  {
   "cell_type": "markdown",
   "metadata": {},
   "source": [
    "### 10. Retrieve the 10 companies with more employees, order by the `number of employees`"
   ]
  },
  {
   "cell_type": "code",
   "execution_count": 22,
   "metadata": {},
   "outputs": [
    {
     "data": {
      "text/plain": [
       "[{'name': 'Siemens', 'number_of_employees': 405000},\n",
       " {'name': 'IBM', 'number_of_employees': 388000},\n",
       " {'name': 'Toyota', 'number_of_employees': 320000},\n",
       " {'name': 'PayPal', 'number_of_employees': 300000},\n",
       " {'name': 'Nippon Telegraph and Telephone Corporation',\n",
       "  'number_of_employees': 227000},\n",
       " {'name': 'Samsung Electronics', 'number_of_employees': 221726},\n",
       " {'name': 'Accenture', 'number_of_employees': 205000},\n",
       " {'name': 'Tata Consultancy Services', 'number_of_employees': 200300},\n",
       " {'name': 'Flextronics International', 'number_of_employees': 200000},\n",
       " {'name': 'Safeway', 'number_of_employees': 186000}]"
      ]
     },
     "execution_count": 22,
     "metadata": {},
     "output_type": "execute_result"
    }
   ],
   "source": [
    "query10 = {\"number_of_employees\":{\"$gte\":0}}\n",
    "list(db[\"companies\"].find(query10,{\"_id\":0,\"name\":1,\"number_of_employees\":1}).sort(\"number_of_employees\",-1).limit(10))"
   ]
  },
  {
   "cell_type": "code",
   "execution_count": null,
   "metadata": {},
   "outputs": [],
   "source": []
  }
 ],
 "metadata": {
  "kernelspec": {
   "display_name": "Python 3 (ipykernel)",
   "language": "python",
   "name": "python3"
  },
  "language_info": {
   "codemirror_mode": {
    "name": "ipython",
    "version": 3
   },
   "file_extension": ".py",
   "mimetype": "text/x-python",
   "name": "python",
   "nbconvert_exporter": "python",
   "pygments_lexer": "ipython3",
   "version": "3.9.12"
  },
  "toc": {
   "base_numbering": 1,
   "nav_menu": {},
   "number_sections": true,
   "sideBar": true,
   "skip_h1_title": false,
   "title_cell": "Table of Contents",
   "title_sidebar": "Contents",
   "toc_cell": true,
   "toc_position": {},
   "toc_section_display": true,
   "toc_window_display": false
  },
  "varInspector": {
   "cols": {
    "lenName": 16,
    "lenType": 16,
    "lenVar": 40
   },
   "kernels_config": {
    "python": {
     "delete_cmd_postfix": "",
     "delete_cmd_prefix": "del ",
     "library": "var_list.py",
     "varRefreshCmd": "print(var_dic_list())"
    },
    "r": {
     "delete_cmd_postfix": ") ",
     "delete_cmd_prefix": "rm(",
     "library": "var_list.r",
     "varRefreshCmd": "cat(var_dic_list()) "
    }
   },
   "types_to_exclude": [
    "module",
    "function",
    "builtin_function_or_method",
    "instance",
    "_Feature"
   ],
   "window_display": false
  }
 },
 "nbformat": 4,
 "nbformat_minor": 2
}
