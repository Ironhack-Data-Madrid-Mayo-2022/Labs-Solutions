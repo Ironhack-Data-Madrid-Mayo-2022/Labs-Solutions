{
 "cells": [
  {
   "cell_type": "markdown",
   "metadata": {
    "toc": true
   },
   "source": [
    "<h1>Table of Contents<span class=\"tocSkip\"></span></h1>\n",
    "<div class=\"toc\"><ul class=\"toc-item\"><li><span><a href=\"#Before-your-start:\" data-toc-modified-id=\"Before-your-start:-1\"><span class=\"toc-item-num\">1&nbsp;&nbsp;</span>Before your start:</a></span><ul class=\"toc-item\"><li><span><a href=\"#Uniform-Distribution\" data-toc-modified-id=\"Uniform-Distribution-1.1\"><span class=\"toc-item-num\">1.1&nbsp;&nbsp;</span>Uniform Distribution</a></span></li><li><span><a href=\"#Normal-Distribution\" data-toc-modified-id=\"Normal-Distribution-1.2\"><span class=\"toc-item-num\">1.2&nbsp;&nbsp;</span>Normal Distribution</a></span></li><li><span><a href=\"#Normal-Distribution-of-Real-Data\" data-toc-modified-id=\"Normal-Distribution-of-Real-Data-1.3\"><span class=\"toc-item-num\">1.3&nbsp;&nbsp;</span>Normal Distribution of Real Data</a></span></li><li><span><a href=\"#Exponential-Distribution\" data-toc-modified-id=\"Exponential-Distribution-1.4\"><span class=\"toc-item-num\">1.4&nbsp;&nbsp;</span>Exponential Distribution</a></span></li><li><span><a href=\"#Exponential-Distribution-of-Real-Data\" data-toc-modified-id=\"Exponential-Distribution-of-Real-Data-1.5\"><span class=\"toc-item-num\">1.5&nbsp;&nbsp;</span>Exponential Distribution of Real Data</a></span></li></ul></li></ul></div>"
   ]
  },
  {
   "cell_type": "markdown",
   "metadata": {},
   "source": [
    "# Before your start:\n",
    "\n",
    "    Read the README.md file\n",
    "    Comment as much as you can and use the resources (README.md file)\n",
    "    Happy learning!"
   ]
  },
  {
   "cell_type": "markdown",
   "metadata": {},
   "source": [
    "In this exercise, we  will generate random numbers from the continuous disributions we learned in the lesson. There are two ways to generate random numbers:\n",
    "\n",
    "1. Using the numpy library \n",
    "1. using the Scipy library \n",
    "\n",
    "Use either or both of the lbraries in this exercise."
   ]
  },
  {
   "cell_type": "markdown",
   "metadata": {},
   "source": [
    "## Uniform Distribution\n",
    "\n",
    "To generate uniform random numbers between any two given values using scipy, we can either use the following code or the code that we have\n",
    "discussed in class:"
   ]
  },
  {
   "cell_type": "code",
   "execution_count": 1,
   "metadata": {},
   "outputs": [],
   "source": [
    "from scipy.stats import uniform\n",
    "x = uniform.rvs(size=10)\n",
    "a = 2\n",
    "b = 3\n",
    "randoms  = a + (b-a)*x"
   ]
  },
  {
   "cell_type": "markdown",
   "metadata": {},
   "source": [
    "**Your task:**\n",
    "\n",
    "1. Based on the code above, write a function that generates uniformly distributed random numbers. There are several requirements for your function:\n",
    "    * It should accept 3 parameters: \n",
    "        * `bottom` - the lower boundary of the generated numbers\n",
    "        * `ceiling` - the upper boundary of the generated numbers\n",
    "        * `count` - how many numbers to generate\n",
    "    * It should return an array of uniformly distributed random numbers\n",
    "\n",
    "1. Call your function with 2 sets of params below:\n",
    "    * bottom=10, ceiling=15, count=100\n",
    "    * bottom=10, ceiling=60, count=1,000\n",
    "\n",
    "1. Plot the uniform distributions generated above using histograms, where x axis is the value and y axis is the count. Let the histogram's number of bins be 10.\n",
    "\n",
    "Your output should look like below:\n",
    "\n",
    "![uniform distribution](ud.png)"
   ]
  },
  {
   "cell_type": "code",
   "execution_count": 2,
   "metadata": {},
   "outputs": [],
   "source": [
    "# your code here\n",
    "def random_uniform_numbers(bottom, ceiling, count):\n",
    "    from scipy.stats import uniform\n",
    "    return uniform(loc=bottom, scale=ceiling-bottom).rvs(size=count)\n",
    "\n",
    "r1 = random_uniform_numbers(10, 15, 100)\n",
    "r2 = random_uniform_numbers(10, 60, 1000)\n",
    "\n",
    "rs = [r1,r2]"
   ]
  },
  {
   "cell_type": "code",
   "execution_count": 3,
   "metadata": {},
   "outputs": [
    {
     "data": {
      "image/png": "[encoded data removed]",
      "text/plain": [
       "<Figure size 864x576 with 2 Axes>"
      ]
     },
     "metadata": {
      "needs_background": "light"
     },
     "output_type": "display_data"
    }
   ],
   "source": [
    "import pylab as plt\n",
    "\n",
    "fig, ax = plt.subplots(1,2, figsize =(12,8));\n",
    "y_tricks = [i for i in range(0,130,20)]\n",
    "\n",
    "for i in range(2):\n",
    "   \n",
    "    plt.yticks(y_tricks) # this line change the value of y axe\n",
    "    plt.sca(ax[i])       # this is for choose the sublpot we are printing\n",
    "    \n",
    "    plt.hist(rs[i], bins=10);\n",
    "   "
   ]
  },
  {
   "cell_type": "markdown",
   "metadata": {},
   "source": [
    "How are the two distributions different?"
   ]
  },
  {
   "cell_type": "code",
   "execution_count": 4,
   "metadata": {},
   "outputs": [],
   "source": [
    "# your answer below"
   ]
  },
  {
   "cell_type": "markdown",
   "metadata": {},
   "source": [
    "## Normal Distribution\n",
    "\n",
    "1. In the same way in the Uniform Distribution challenge, write a function that generates normally distributed random numbers.\n",
    "1. Generate 1,000 normally distributed numbers with the average of 10 and standard deviation of 1\n",
    "1. Generate 1,000 normally distributed numbers with the average of 10 and standard deviation of 50\n",
    "2. Plot the distributions of the data generated.\n",
    "\n",
    "Expected output:\n",
    "\n",
    "![normal distribution](nd.png)"
   ]
  },
  {
   "cell_type": "code",
   "execution_count": 5,
   "metadata": {},
   "outputs": [],
   "source": [
    "def normal_random_numbers(size, avg, std):\n",
    "    from scipy.stats import norm\n",
    "    return norm.rvs(avg, std, size=size )\n",
    "\n",
    "n1 = normal_random_numbers(1000, 10, 1)\n",
    "n2 = normal_random_numbers(1000, 10, 50)\n",
    "\n",
    "ns = [n1,n2]"
   ]
  },
  {
   "cell_type": "code",
   "execution_count": 6,
   "metadata": {},
   "outputs": [
    {
     "data": {
      "text/plain": [
       "array([-1.47461620e+01, -5.13482382e+01,  5.68014693e+01, -3.39648169e+01,\n",
       "        6.59461857e+01, -6.98315657e+01,  5.97804333e+01,  3.73346265e+01,\n",
       "       -7.90756837e+01,  4.96348233e+01, -4.85617624e+01,  1.62784269e+02,\n",
       "        1.99986545e+00,  1.09167814e+01,  4.72822201e+01,  6.45294315e+01,\n",
       "       -4.77723897e+01, -2.22727387e+01,  6.15631232e+01,  1.14341592e+01,\n",
       "        6.10225167e+01,  5.80245073e+01,  2.88847065e+00,  9.48432130e+00,\n",
       "        3.33220150e+01, -2.22769365e+01, -1.08886253e+01, -6.30873133e+00,\n",
       "       -4.53880066e+00,  6.07385478e+01, -6.71346540e+01,  5.62732395e+01,\n",
       "        5.40070877e+01,  2.18016434e+01,  3.08792566e+01,  2.59077150e+01,\n",
       "       -1.19678975e+01, -1.82492078e+01, -4.25642394e+01, -1.42312427e+00,\n",
       "        3.67176837e+01,  3.86280579e+01,  4.23296367e+01, -2.90282640e+01,\n",
       "       -3.13076946e+01,  1.47563494e+02, -3.37842335e+01,  4.74143759e+01,\n",
       "       -2.17627049e+01,  9.15841875e+00, -2.36608116e+01,  9.63154562e+01,\n",
       "        7.81866493e+00,  9.54579565e+01, -1.02077541e+02,  6.04448001e+01,\n",
       "        2.96865993e+01,  8.48352865e+01,  5.38257664e+01,  9.66131919e+01,\n",
       "       -1.72398816e-02, -6.89850648e+01,  3.61676559e+01,  1.65914957e+02,\n",
       "        9.45282030e+01, -5.81965546e+00,  1.40870469e+01,  9.42784771e+00,\n",
       "        9.30013819e+01, -3.64784343e+01,  7.61524688e+01,  7.17194709e+01,\n",
       "       -2.96431571e+01,  7.89656011e-01,  6.06181815e+01,  6.49716072e+01,\n",
       "        5.56461844e+01, -4.93344471e+00, -2.86137201e+01,  2.69127121e+01,\n",
       "       -8.66891354e+00,  8.55737314e+01,  1.55301760e+02, -1.28262676e+01,\n",
       "        8.62648825e+01, -8.52937672e+00,  1.89226614e+01,  5.21320214e+01,\n",
       "        8.38274310e+01,  2.42820555e+01,  4.33977496e+01,  1.97925101e+01,\n",
       "        5.81742274e+00,  1.88087694e+01,  1.97433175e+01,  6.97036343e+01,\n",
       "        4.22795839e+01,  5.21402428e+01,  5.14740673e+01,  5.13912873e+01,\n",
       "        2.95807551e+01, -5.36024620e+00,  5.19808676e-01, -1.15507841e+01,\n",
       "        7.60611847e-01,  6.32910010e+01, -9.81793513e+01,  6.53775133e+01,\n",
       "       -5.55160922e+01, -1.53264192e+01, -1.68134861e+00,  2.69051996e+00,\n",
       "       -2.58060354e+01, -3.73014918e+01, -5.35661504e+01,  4.86899909e+01,\n",
       "        9.27154385e+01, -1.47442149e+00, -3.84210466e+01, -1.70119510e+01,\n",
       "        2.59090362e+01,  4.33280883e+01,  3.51712461e+01,  1.80561774e+01,\n",
       "       -2.96788077e+01, -1.24259264e+01,  8.66929045e+01, -1.96576503e+01,\n",
       "       -2.94861632e+01,  4.56357952e+01,  3.13142984e+01, -2.39582380e+01,\n",
       "       -1.17745345e+01, -3.46393355e+01,  5.96082034e+01, -8.06034832e+01,\n",
       "        7.98818451e+01, -7.42254623e+01, -3.51377261e+01,  4.22172946e+01,\n",
       "        2.62338993e+01, -1.28874487e+01, -6.31049517e+01, -1.39382731e+01,\n",
       "        1.94535824e+01,  2.04905656e+01,  1.34442023e+00,  3.27857474e+01,\n",
       "        2.38435838e+01,  1.11016772e+02, -4.46386306e+01, -9.89847596e+01,\n",
       "        4.13160875e+01,  9.02458354e+01, -4.10573910e+01,  2.37264046e+01,\n",
       "        5.80216984e+01,  5.92376725e+01, -2.92955470e+01, -4.47075217e+01,\n",
       "        1.14662782e+01,  1.07890717e+02,  1.09030013e+02, -4.78718906e+01,\n",
       "        6.11909676e+01,  2.93995897e+01,  3.89839761e+01, -7.14828326e+01,\n",
       "        9.23856675e+01,  4.82312012e+01,  8.30667647e+01,  1.10357602e+02,\n",
       "       -2.92618682e+01, -5.32738259e+01,  1.43364953e+00, -1.32669629e+01,\n",
       "        2.82605857e+00, -7.89325947e+00, -1.24143875e+02,  1.06999281e+02,\n",
       "       -3.93049858e+01, -1.26780264e+01,  2.03915925e+01,  1.79519560e+01,\n",
       "        7.89175953e+01,  1.13208927e+02,  6.22691611e+01,  2.53073515e+01,\n",
       "       -3.78291936e+01,  1.50678423e+01, -1.39418932e+01,  4.39706505e+01,\n",
       "        5.46069220e+01,  8.62779781e+01, -7.41009674e+01,  5.42976184e+01,\n",
       "       -5.99633267e+01, -2.30939880e+01,  1.10964421e+02,  1.01110249e+02,\n",
       "        4.17273048e+01,  1.08735546e+01,  5.76953800e+01,  4.99544800e+01,\n",
       "        4.69111282e+01, -1.48110070e+01, -7.89267907e+00,  6.24116373e-01,\n",
       "        5.27815231e+01,  2.42291855e+01,  9.52207884e+01, -2.57621966e+01,\n",
       "       -7.01336869e+00,  3.21462717e+01, -5.09861216e+01,  3.60691499e+01,\n",
       "        8.45126845e+01, -3.21261452e+01,  4.51718375e+01,  4.84786372e+01,\n",
       "        6.75097459e+01,  5.73384861e+01, -1.89292185e+01,  3.38497571e+01,\n",
       "       -1.08961949e+02, -5.00992162e+01,  1.13713282e+01, -6.11901462e+01,\n",
       "        7.20877972e+01,  2.11293287e+01,  5.98416628e+01,  3.18982596e+01,\n",
       "       -6.69749586e+00, -5.23606643e+01,  1.30621163e+01,  8.44982026e+01,\n",
       "        1.58743289e+01,  1.05958904e+02,  3.72287300e+01,  4.14488801e+01,\n",
       "        4.08620314e+00, -1.89196689e+01, -3.35737934e+01,  1.87220649e+01,\n",
       "        4.79360625e+01, -7.52231511e+00,  8.73028141e+01, -3.55371946e+01,\n",
       "       -4.28818887e+00, -3.81565664e+01,  5.48729103e+01, -3.13900250e+01,\n",
       "       -7.25724988e+00,  3.87524583e+01,  3.95013998e+01, -2.97855466e+01,\n",
       "        3.05785960e+01,  1.82918853e+01, -4.63456511e+01,  2.81454183e+01,\n",
       "        5.97506785e+00,  3.68676802e+01, -6.96702732e+01,  4.49041622e+01,\n",
       "       -2.85621448e+01, -1.03362840e+02,  3.02179882e+01,  9.68893051e+01,\n",
       "        4.26201967e+01,  1.04313088e+01,  1.69821945e+01,  4.45960419e+01,\n",
       "        1.94442816e+01,  1.36588841e+01,  1.36548679e+01, -2.08099923e+01,\n",
       "        3.84548161e+01, -2.25862187e+01,  3.67672452e+01, -2.05237039e+01,\n",
       "        4.93709459e+01, -8.80414985e+01, -1.51713960e+02,  6.58199340e+01,\n",
       "        9.66785519e+01,  2.36776758e+00,  3.62433557e+00, -3.19817030e+01,\n",
       "        1.58558122e+01, -5.63973280e+01, -9.77968105e+00, -2.74619920e+01,\n",
       "       -1.96303109e+01, -4.82272971e+00,  3.58077322e+01,  5.94335461e+01,\n",
       "        2.77307010e+01, -3.37767601e+01,  6.95174595e+01,  5.96250218e+01,\n",
       "        3.10543958e+01, -3.13539014e+01,  2.02683993e+01, -3.24573349e+01,\n",
       "       -6.86927350e+01, -1.55732267e+01,  7.73633907e+01, -8.98889551e+00,\n",
       "        4.05377197e+01, -7.76197636e+00, -3.30502524e+01,  2.88138552e+01,\n",
       "        9.66405757e+01,  4.93809266e+01, -3.48417822e+01,  4.16830835e+01,\n",
       "        8.99357125e+01, -1.65337828e+01, -3.16160375e+01,  1.72611095e+02,\n",
       "        6.24591322e+01,  5.94769963e+00, -1.24674143e+02, -5.48117345e+01,\n",
       "       -3.87335361e+01,  4.63063783e+01, -2.74773396e+01,  1.29951429e+01,\n",
       "       -1.26960013e+01, -5.49924093e+01, -2.25095743e+01, -1.48444601e+01,\n",
       "        5.94980125e+01,  6.39982674e+01, -5.73908866e+00, -6.06477594e+00,\n",
       "       -3.18585453e+01,  2.14964055e+01,  6.52778133e+01,  3.67272253e+01,\n",
       "       -9.46206341e+01, -1.49522397e+01, -2.29208054e+01,  4.11015697e+01,\n",
       "        9.81284850e+01, -5.32367648e+00, -7.71936573e+01,  2.29927595e+01,\n",
       "        3.98271343e+01,  3.17651644e+01,  1.28505856e+01,  6.64938615e+01,\n",
       "       -4.11880126e+01,  1.33375439e+01, -1.99045410e+01, -5.81034477e+01,\n",
       "        2.63519319e+01, -5.34094089e+01,  1.46646138e+01, -3.94100336e+01,\n",
       "        5.23329302e+01,  7.99474002e+00,  1.78907847e+01,  6.30656043e+01,\n",
       "        2.85104213e+01, -2.97042516e+01, -3.04593604e+01,  3.39130111e+01,\n",
       "        1.95444426e+01, -1.10297991e+01, -2.59676102e+01,  1.02826713e+01,\n",
       "        1.00589736e+01,  5.75546082e+01, -7.50243189e+01, -2.09199605e+01,\n",
       "       -2.57686757e+01,  2.81078790e+01,  2.93200530e+01,  2.99958234e+01,\n",
       "       -5.95221816e+01, -2.81882216e+01, -4.20010244e+01,  1.82844097e+01,\n",
       "       -5.44393158e+01,  8.15349736e+00,  2.49782498e+01, -5.71198353e+01,\n",
       "        1.59791779e+01,  7.79245347e+01, -4.70340143e+01,  1.01945842e+02,\n",
       "        3.78004833e+01, -2.13626681e+01,  1.43011126e+02, -8.35934591e+01,\n",
       "        1.45352484e+01,  5.16577077e+01,  2.38216578e+01,  4.20835620e+01,\n",
       "        4.23884751e+01,  3.65023252e+00,  7.67634531e+01, -4.32751892e+00,\n",
       "       -5.45122007e+00, -4.88183481e+01,  5.89336022e+01,  2.04860243e+01,\n",
       "        3.70288838e+01,  5.81171163e+01,  2.69103519e+01,  9.32617836e+00,\n",
       "        3.39196274e+01,  7.84602400e+01, -2.30249729e+01, -3.05025522e+01,\n",
       "        3.33508808e+01,  3.44804597e+01,  1.33740169e+01,  6.06090185e+01,\n",
       "        9.78692618e+00, -5.37290335e+01, -2.96215350e+01, -1.26450831e+01,\n",
       "       -4.07339094e+01,  8.31226447e+01, -2.46723648e+01,  5.35001562e+01,\n",
       "       -5.97021085e+01, -3.58463237e+01, -6.98137592e+01, -1.99663009e+01,\n",
       "        3.97366904e+01, -1.75597002e+01, -4.88901466e+01,  1.54796315e+01,\n",
       "        3.90460944e+01,  5.58653999e+01, -4.50367167e+01, -2.02392398e+01,\n",
       "       -3.77040600e+01,  8.63417246e+01, -7.78025944e+01,  2.54822071e+01,\n",
       "        5.10425548e+01, -2.44893185e+01,  5.30763602e+01,  4.92247324e+01,\n",
       "       -4.48268778e+01, -4.32487948e+01,  2.13435861e+01, -8.56896362e+01,\n",
       "       -2.92623633e+01, -3.96431665e+01,  4.57726619e+01, -1.88183826e+01,\n",
       "        7.65823824e+01, -4.68415714e+01, -3.86990090e+01, -4.37481664e+00,\n",
       "        4.02665293e+01,  7.54582885e+01, -3.87696188e+01, -8.79174626e+01,\n",
       "       -2.92671473e+01,  4.17369691e+01,  1.32601156e+02,  6.84229419e+01,\n",
       "       -3.53224518e+01,  3.31087061e+01, -2.73327740e+01,  3.43249568e+01,\n",
       "        8.89298231e+00,  4.59417269e+01, -3.70526346e+01,  2.13698484e+01,\n",
       "        5.25280915e+01,  3.23070511e+01,  1.49979520e+01,  4.32736755e+01,\n",
       "        6.94383201e+01,  6.44845492e+00, -6.99446003e+01, -2.82678852e+01,\n",
       "       -1.12131484e+01, -2.10231894e+01,  4.08471603e+01,  5.19283074e+01,\n",
       "       -4.09686459e+00,  1.13892553e+01, -8.50054845e+00,  5.81471805e+01,\n",
       "        6.10740239e+01, -4.16436694e+01,  3.56000273e+01,  2.95099722e+01,\n",
       "        8.38767092e+01,  6.06564551e+01,  3.01272051e+01, -9.17110389e+00,\n",
       "        1.12241978e+01,  8.42586087e+01,  3.26859807e+01,  6.08142663e+01,\n",
       "       -2.93276108e+01, -5.53395707e+01,  8.18733976e+00, -7.29686150e+01,\n",
       "       -5.92529207e+01,  6.88004806e+01, -4.23568284e+00, -5.64160958e+01,\n",
       "        4.10788139e+01, -6.00066721e+01, -8.84473447e+01, -5.61796392e+01,\n",
       "       -4.13126816e+01, -4.46645868e+01, -2.80555310e+01, -3.06806482e+01,\n",
       "       -1.16127310e+02,  1.13346081e+01, -3.02654890e+01, -5.40855788e+01,\n",
       "       -1.46000590e+01, -6.58793375e+00, -7.50280925e+00, -4.90850940e+01,\n",
       "        3.67899512e+01,  1.33251765e+01,  1.46091797e+01,  4.21197645e+01,\n",
       "       -2.15021864e+01,  4.48670513e+01,  3.10473874e+01, -3.90384124e+01,\n",
       "       -3.72814890e+01,  2.17940700e+01, -7.15959014e+01, -3.32197617e+01,\n",
       "        5.56298458e+01, -1.51214925e+01,  3.22461600e+00, -3.08877692e+01,\n",
       "       -5.34802292e+01,  2.86409200e+01, -2.47557723e+01,  5.04387115e+00,\n",
       "        9.10698889e+01,  2.06139977e+01, -1.04875540e+01,  9.41850340e+00,\n",
       "        1.47826737e+00, -4.08731154e+01,  1.28790904e+01,  6.98691116e+01,\n",
       "        2.70171242e+01, -6.21267023e+01, -7.39150353e+01,  3.77515175e+00,\n",
       "       -8.11188014e+01, -9.76233541e+01,  7.49215645e+01, -1.46499078e+01,\n",
       "        1.50426990e+01,  3.24649701e+00,  1.54560118e+02,  2.63815522e+00,\n",
       "        1.86013700e+01, -4.37703571e+01,  8.54633680e+01,  2.26242757e+01,\n",
       "        4.04542814e+01,  5.54535680e+01,  3.44074086e+01,  4.20200337e+01,\n",
       "        3.63442768e+01,  5.04594392e+01,  1.52389514e+02, -4.61474251e+01,\n",
       "        5.08981749e+01, -7.34984486e+01,  3.12883122e+01, -3.81107905e+01,\n",
       "        1.21518865e+00,  5.53139459e+00, -2.71226297e+01,  5.73724841e+01,\n",
       "        5.69112633e+01, -7.37267073e+01,  4.33083352e+01,  1.85171886e+01,\n",
       "        7.70981382e+00, -7.85568417e+01, -2.68455419e+01,  4.55983175e+01,\n",
       "       -5.54865341e+01,  3.19323028e+01,  3.95064752e+01,  1.62090203e+00,\n",
       "        5.56808318e+00,  2.32465008e+01, -3.84016309e+01,  7.91937630e+01,\n",
       "        3.23864197e+01, -3.82704981e+01,  6.02987427e+01,  4.38877444e+01,\n",
       "       -5.39335547e+00, -6.21973542e+01,  9.32681352e+00, -2.00489092e+01,\n",
       "       -2.74075727e+01,  4.45441506e+01,  5.84925355e+01, -1.59466690e+01,\n",
       "       -3.43199267e+01,  7.17500981e+01,  5.58731488e+01,  2.93047190e+01,\n",
       "       -1.43619736e+00, -7.94774753e+01, -2.59861966e+01,  3.61139742e+01,\n",
       "        8.95548239e+01, -8.46296527e+01, -4.24775653e+01,  1.23484008e+02,\n",
       "        7.48746887e+01,  1.01820998e+01,  3.31226810e+01, -1.15232399e+01,\n",
       "       -6.53359340e+01, -4.60802194e+01,  6.54418903e+01,  4.33864066e+01,\n",
       "        2.48606667e+01,  4.33295578e+01,  6.67765506e+01,  2.95013991e+01,\n",
       "        4.81790916e+01,  1.05874816e+02, -4.06994973e+01,  6.64151126e+01,\n",
       "        8.69412938e+01,  1.97115493e+01, -5.02224131e+01,  2.23776711e+01,\n",
       "       -1.71863049e+01, -1.32869201e+01,  1.82661503e+02,  5.85784500e+01,\n",
       "       -5.08736492e+01,  9.95496059e+01, -1.42771786e+00,  1.00517573e+01,\n",
       "        1.45214588e+01,  1.29573837e+01,  2.33951320e+01,  1.24505591e+01,\n",
       "       -8.40763227e+00, -1.58653789e+01, -3.70339011e+01,  9.20436480e+01,\n",
       "        5.56596041e+01, -2.79103898e+01,  4.38161149e+01,  1.99657766e+01,\n",
       "       -3.68065062e+01,  1.61710437e+01,  2.58601332e+01, -2.31355964e+01,\n",
       "        4.07363016e+01, -3.17008256e+01,  4.42714780e-01,  1.14596876e+01,\n",
       "       -3.24158425e+01, -5.34791118e+01,  5.02290041e+01, -6.19797604e+01,\n",
       "        1.05895084e+02, -1.64765876e+01,  6.96802978e+01, -3.03887863e+01,\n",
       "       -4.49387618e+01, -3.45595029e+01,  3.61600655e+01, -3.15479971e+01,\n",
       "        3.89597151e+01,  8.99468620e+01,  3.09827955e+00,  4.10907321e+01,\n",
       "        8.63377725e+00, -1.69633956e+02,  6.22703646e+01,  3.33218482e+01,\n",
       "       -2.17864713e+01,  1.71378239e+01,  3.03873743e+01, -2.36388650e+01,\n",
       "       -2.57471342e+01,  1.27752214e+01,  1.46159057e+01,  3.87662187e+01,\n",
       "        1.29297265e+01, -3.42313443e+01,  8.25384737e+01,  8.27732933e+00,\n",
       "       -1.23589009e+00,  3.23427202e+01,  5.32855677e+01, -8.48042287e+01,\n",
       "        2.07051039e+01, -3.27114681e+01,  2.82426329e+01,  6.09343230e+01,\n",
       "        1.75100493e+01,  4.94292224e+01,  8.00156171e+01,  5.93676839e+00,\n",
       "        1.48782191e+01, -1.47351062e+01, -3.61996478e+01, -1.25370476e+02,\n",
       "        2.03426461e+01,  2.83173935e+01,  2.04758428e+01,  5.38567177e+01,\n",
       "       -1.47152325e+00,  4.16760138e+01,  1.58735186e+01,  3.38874562e+01,\n",
       "        7.51979673e+01,  6.73332992e+01,  4.82689773e+01,  8.41862764e+01,\n",
       "       -5.61578765e+00, -6.22506730e+00,  2.63687607e+01,  1.37104059e+02,\n",
       "       -3.54625308e+01,  1.42019733e+00,  5.26946184e+01,  3.51322261e+01,\n",
       "        7.00266116e+01,  2.42320897e+01,  1.21704047e+01,  1.48791812e+00,\n",
       "        2.10068877e+01, -4.52449656e+01, -2.20553074e+01,  6.80462072e+01,\n",
       "       -1.72269493e+01,  1.12618623e+02, -1.99746087e+01,  4.10488141e+01,\n",
       "        3.48986527e+01, -4.48491552e+01,  2.10172154e+01, -4.44375703e+01,\n",
       "        8.07103246e+00, -7.46940606e+01, -9.01609443e+01,  1.91402629e+01,\n",
       "       -7.20785334e+01,  5.13931893e+01, -9.47672248e+01,  6.98641137e+00,\n",
       "        2.46138379e+01,  1.52953481e+01,  4.52286202e+01,  1.21260689e+01,\n",
       "       -2.78126498e+01,  4.92375738e+01, -5.69444955e+01, -4.40812573e+01,\n",
       "        4.09737291e+01, -7.91336605e+00,  2.16445546e+00, -5.39661363e+01,\n",
       "        4.12479785e+01,  3.06045052e+00,  9.50058842e+00, -1.57695496e+00,\n",
       "       -9.39569792e+01, -7.45193395e+01,  6.21483109e+01,  6.53616023e+01,\n",
       "       -2.10887655e+01, -2.96214071e+01,  2.16237876e+01,  1.27080613e+01,\n",
       "       -7.80296624e+00,  5.45858534e+01, -5.66435767e+00,  1.26004421e+02,\n",
       "       -4.66374563e-01,  1.46123801e+01,  7.10539569e+01,  2.18568164e+01,\n",
       "        1.76771818e+01,  5.54324565e+01, -4.96569220e+01,  5.34821882e+01,\n",
       "       -1.39242677e+01,  2.41575801e-01,  4.08540527e+01, -5.83665840e+01,\n",
       "        3.15898554e+01,  3.18282350e+01, -6.27978626e+00,  5.26024075e+01,\n",
       "        7.31222875e+01, -7.45402764e+00, -3.90510383e+01, -8.08586528e+01,\n",
       "       -1.81360765e+01, -6.93978518e+01, -1.17846506e+02, -5.86372829e+01,\n",
       "        5.02596552e+01, -3.73403711e+01,  3.52681667e+01,  1.12649487e+01,\n",
       "        2.54862830e+00, -3.81278314e+01,  2.28463137e+01,  1.54337441e+01,\n",
       "        3.73178600e+01,  6.52208472e+01,  3.28904565e+01,  4.58874177e+01,\n",
       "        9.84546165e+00,  2.03860450e+01, -1.03497574e+02,  4.87332176e+00,\n",
       "       -1.00788270e+02,  8.23535978e+01,  6.37678500e+01,  5.68662922e+01,\n",
       "       -4.19240225e+01,  5.22831119e+01,  4.39987526e+01,  6.96799881e+01,\n",
       "        3.53415362e+01, -1.28674029e+02,  1.60007241e+01,  1.22709732e+01,\n",
       "        9.79822824e+01, -3.68523995e+01,  5.89666109e+01,  2.10517876e+01,\n",
       "        2.52097879e+01,  8.49668062e+01, -8.82391407e+00, -5.37485562e+01,\n",
       "        3.03398917e+01,  4.79891168e+01, -1.89290491e+01, -2.60626200e+00,\n",
       "        1.41194201e+01,  8.56976309e+01, -1.60568076e+00,  4.91717626e+01,\n",
       "        9.67449099e+01,  5.49888921e+00, -3.38447272e+01, -1.51661791e+01,\n",
       "       -7.95903968e+01, -7.26634293e+01,  5.24241429e+01, -5.74070584e+01,\n",
       "       -1.09287184e+02, -6.17817357e+01,  7.89968676e+01,  2.77521341e+01,\n",
       "       -2.47282054e+01,  1.41735549e+01,  1.24371307e+02,  1.00632877e+02,\n",
       "        1.07225496e+01,  5.31596227e+01, -8.49400397e+01, -7.09848172e+00,\n",
       "        3.86450915e+01,  9.89448822e+01,  7.89447190e+01, -2.97750043e+01,\n",
       "        5.80016719e+01,  7.18743335e+01,  1.44045428e+01,  8.65903861e+01,\n",
       "       -7.60706290e+01,  4.88159792e+01,  2.91744490e+00,  4.12405647e+01,\n",
       "        3.50015566e+01,  6.97702934e+01,  7.27018010e+01,  7.63983448e+01,\n",
       "        3.74519843e+00,  9.04550690e+01, -1.98553440e+01,  1.02506218e+02,\n",
       "        6.50754761e+01, -3.11584657e+01,  8.27876137e+01, -1.89056786e+00,\n",
       "       -2.11604325e+01, -6.98724714e+01,  1.61804062e+01,  7.32795460e+00,\n",
       "       -3.55828513e+01, -5.43613264e+00,  4.88179734e+01, -5.63534100e+01,\n",
       "        6.45483031e+01, -5.97853365e+00,  6.32584428e+01,  7.94292763e+01,\n",
       "       -1.70918015e+01,  8.99259339e+00,  5.19234157e+01,  6.68602647e+01,\n",
       "       -6.45762054e+01, -1.78521941e+01,  3.10569246e+01, -8.74257853e-01,\n",
       "       -1.76845438e+01,  2.54980682e+01,  7.51623977e+01,  1.46136058e+01,\n",
       "        3.07153465e+01,  2.81079857e+01, -2.86139596e+01,  9.56449255e+01,\n",
       "        4.68798320e+01,  4.02220577e+00,  5.05197978e+01,  1.28218279e+01,\n",
       "        2.71800508e+01,  1.09240488e+02,  8.93344247e+01,  3.80426695e+01,\n",
       "        3.41396786e+01,  1.45387485e+01,  3.44989690e+01,  1.01538498e+02,\n",
       "        6.94914799e+01, -1.68912149e+01,  7.02404955e+01,  2.03522596e+01,\n",
       "        4.25415117e+01, -2.98152890e+01, -3.87641982e+00,  3.82085158e+00,\n",
       "       -6.60592815e+01,  1.44652353e+02,  4.32000892e+01,  3.15092674e+01,\n",
       "        3.55711586e+01, -5.06425705e+01,  2.07850411e+01,  6.20380294e+01,\n",
       "       -2.77069630e+01,  1.59148959e+01, -5.80742827e+01, -1.23436779e+02,\n",
       "        4.90104353e+01, -8.17822024e+00, -1.93733417e+01,  4.78545910e+01,\n",
       "       -2.52839710e+01,  8.36243319e+00,  2.57860299e+00,  6.50038464e+01,\n",
       "        6.54041550e+01,  2.40922310e+01,  1.31710936e+00,  8.74465034e+01,\n",
       "       -5.43451567e+00,  4.53902534e+01,  1.05220595e+02,  8.19776032e+01,\n",
       "        2.82077935e-01,  6.41357124e+01,  1.58577728e+01,  2.45948231e+01,\n",
       "       -1.34405198e+01,  6.78364943e+01, -8.29152230e+00,  4.18494772e+01,\n",
       "       -3.84124784e+01, -3.97645600e+01,  1.31834739e+01,  1.75557509e+01,\n",
       "       -8.65151128e+01,  6.95593251e+01, -1.65008514e+01, -3.32332299e+01])"
      ]
     },
     "execution_count": 6,
     "metadata": {},
     "output_type": "execute_result"
    }
   ],
   "source": [
    "n2"
   ]
  },
  {
   "cell_type": "code",
   "execution_count": 7,
   "metadata": {},
   "outputs": [
    {
     "data": {
      "image/png": "[encoded data removed]",
      "text/plain": [
       "<Figure size 864x576 with 2 Axes>"
      ]
     },
     "metadata": {
      "needs_background": "light"
     },
     "output_type": "display_data"
    }
   ],
   "source": [
    "fig, ax = plt.subplots(1,2, figsize =(12,8));\n",
    "\n",
    "\n",
    "for i in range(2):\n",
    "   \n",
    "    plt.sca(ax[i])       # this is for choose the sublpot we are printing\n",
    "    \n",
    "    plt.hist(ns[i], bins=100);"
   ]
  },
  {
   "cell_type": "markdown",
   "metadata": {},
   "source": [
    "How are the two distributions different?"
   ]
  },
  {
   "cell_type": "code",
   "execution_count": 8,
   "metadata": {},
   "outputs": [],
   "source": [
    "# your answer below"
   ]
  },
  {
   "cell_type": "markdown",
   "metadata": {},
   "source": [
    "## Normal Distribution of Real Data\n",
    "\n",
    "In this challenge we are going to take a look the real data. We will use vehicles.csv file for this exercise"
   ]
  },
  {
   "cell_type": "markdown",
   "metadata": {},
   "source": [
    "First import vehicles.csv.\n",
    "Then plot the histograms for the following variables:\n",
    "\n",
    "1. Fuel Barrels/Year"
   ]
  },
  {
   "cell_type": "code",
   "execution_count": 9,
   "metadata": {},
   "outputs": [
    {
     "data": {
      "image/png": "[encoded data removed]",
      "text/plain": [
       "<Figure size 432x288 with 1 Axes>"
      ]
     },
     "metadata": {
      "needs_background": "light"
     },
     "output_type": "display_data"
    }
   ],
   "source": [
    "# your code here\n",
    "import pandas as pd\n",
    "\n",
    "df = pd.read_csv('vehicles.csv')\n",
    "\n",
    "\n",
    "plt.hist(df['Fuel Barrels/Year']);"
   ]
  },
  {
   "cell_type": "markdown",
   "metadata": {},
   "source": [
    "2. CO2 Emission Grams/Mile "
   ]
  },
  {
   "cell_type": "code",
   "execution_count": 10,
   "metadata": {},
   "outputs": [
    {
     "data": {
      "image/png": "[encoded data removed]",
      "text/plain": [
       "<Figure size 432x288 with 1 Axes>"
      ]
     },
     "metadata": {
      "needs_background": "light"
     },
     "output_type": "display_data"
    }
   ],
   "source": [
    "plt.hist(df['CO2 Emission Grams/Mile']);"
   ]
  },
  {
   "cell_type": "markdown",
   "metadata": {},
   "source": [
    "3. Combined MPG"
   ]
  },
  {
   "cell_type": "code",
   "execution_count": 11,
   "metadata": {},
   "outputs": [
    {
     "data": {
      "image/png": "[encoded data removed]",
      "text/plain": [
       "<Figure size 432x288 with 1 Axes>"
      ]
     },
     "metadata": {
      "needs_background": "light"
     },
     "output_type": "display_data"
    }
   ],
   "source": [
    "plt.hist(df['Combined MPG']);"
   ]
  },
  {
   "cell_type": "markdown",
   "metadata": {},
   "source": [
    "Which one(s) of the variables are nearly normally distributed? How do you know?"
   ]
  },
  {
   "cell_type": "markdown",
   "metadata": {},
   "source": [
    "\n",
    "    Fuel Barrels/Year is the most near to normally distribution"
   ]
  },
  {
   "cell_type": "markdown",
   "metadata": {},
   "source": [
    "## Exponential Distribution"
   ]
  },
  {
   "cell_type": "markdown",
   "metadata": {},
   "source": [
    "1. Using `numpy.random.exponential`, create a function that returns a list of numbers exponentially distributed with the mean of 10. \n",
    "\n",
    "1. Use the function to generate two number sequences with the size of 10 and 100.\n",
    "\n",
    "1. Plot the distributions as histograms with the nubmer of bins as 100.\n",
    "\n",
    "Your output should look like below:\n",
    "\n",
    "![exponential distribution](ed.png)"
   ]
  },
  {
   "cell_type": "code",
   "execution_count": 20,
   "metadata": {},
   "outputs": [],
   "source": [
    "# your code here\n",
    "\n",
    "def exp_random_distribution(size, avg):\n",
    "    from scipy.stats import expon\n",
    "    return expon(loc = 0, scale=avg).rvs(size=size)"
   ]
  },
  {
   "cell_type": "code",
   "execution_count": 24,
   "metadata": {},
   "outputs": [],
   "source": [
    "e1 = exp_random_distribution(10,10)\n",
    "e2 = exp_random_distribution(100,10)\n",
    "\n",
    "es = [e1,e2]"
   ]
  },
  {
   "cell_type": "code",
   "execution_count": 25,
   "metadata": {},
   "outputs": [
    {
     "data": {
      "image/png": "[encoded data removed]",
      "text/plain": [
       "<Figure size 864x576 with 2 Axes>"
      ]
     },
     "metadata": {
      "needs_background": "light"
     },
     "output_type": "display_data"
    }
   ],
   "source": [
    "fig, ax = plt.subplots(1,2, figsize =(12,8));\n",
    "\n",
    "\n",
    "for i in range(2):\n",
    "   \n",
    "    plt.sca(ax[i])       # this is for choose the sublpot we are printing\n",
    "    \n",
    "    plt.hist(es[i]);"
   ]
  },
  {
   "cell_type": "code",
   "execution_count": 23,
   "metadata": {},
   "outputs": [
    {
     "data": {
      "text/plain": [
       "array([ 1.05101562,  6.30167016,  8.82594637, 16.42879846, 12.71222107,\n",
       "        2.16139419, 12.1251599 , 25.99545685, 12.08519135,  1.09240107])"
      ]
     },
     "execution_count": 23,
     "metadata": {},
     "output_type": "execute_result"
    }
   ],
   "source": [
    "e1"
   ]
  },
  {
   "cell_type": "markdown",
   "metadata": {},
   "source": [
    "How are the two distributions different?"
   ]
  },
  {
   "cell_type": "code",
   "execution_count": 15,
   "metadata": {},
   "outputs": [],
   "source": [
    "# your answer here"
   ]
  },
  {
   "cell_type": "markdown",
   "metadata": {},
   "source": [
    "## Exponential Distribution of Real Data\n",
    "\n",
    "Suppose that the amount of time one spends in a bank is exponentially distributed with mean as 10 minutes (i.e. λ = 1/10). What is the probability that a customer will spend less than fifteen minutes in the bank? \n",
    "\n",
    "Write a code in python to solve this problem"
   ]
  },
  {
   "cell_type": "code",
   "execution_count": 30,
   "metadata": {},
   "outputs": [
    {
     "data": {
      "text/plain": [
       "0.7768698398515702"
      ]
     },
     "execution_count": 30,
     "metadata": {},
     "output_type": "execute_result"
    }
   ],
   "source": [
    "# your answer here\n",
    "# Hint: This is same as saying P(x<15)\n",
    "from scipy.stats import expon\n",
    "exp = expon(scale=10)\n",
    "\n",
    "exp.cdf(15)"
   ]
  },
  {
   "cell_type": "markdown",
   "metadata": {},
   "source": [
    "What is the probability that the customer will spend more than 15 minutes"
   ]
  },
  {
   "cell_type": "code",
   "execution_count": 32,
   "metadata": {},
   "outputs": [
    {
     "data": {
      "text/plain": [
       "0.2231301601484298"
      ]
     },
     "execution_count": 32,
     "metadata": {},
     "output_type": "execute_result"
    }
   ],
   "source": [
    "# your answer here\n",
    "prob = 1- exp.cdf(15)\n",
    "prob"
   ]
  },
  {
   "cell_type": "code",
   "execution_count": null,
   "metadata": {},
   "outputs": [],
   "source": []
  }
 ],
 "metadata": {
  "kernelspec": {
   "display_name": "Python 3 (ipykernel)",
   "language": "python",
   "name": "python3"
  },
  "language_info": {
   "codemirror_mode": {
    "name": "ipython",
    "version": 3
   },
   "file_extension": ".py",
   "mimetype": "text/x-python",
   "name": "python",
   "nbconvert_exporter": "python",
   "pygments_lexer": "ipython3",
   "version": "3.9.12"
  },
  "toc": {
   "base_numbering": 1,
   "nav_menu": {},
   "number_sections": true,
   "sideBar": true,
   "skip_h1_title": false,
   "title_cell": "Table of Contents",
   "title_sidebar": "Contents",
   "toc_cell": true,
   "toc_position": {},
   "toc_section_display": true,
   "toc_window_display": false
  },
  "varInspector": {
   "cols": {
    "lenName": 16,
    "lenType": 16,
    "lenVar": 40
   },
   "kernels_config": {
    "python": {
     "delete_cmd_postfix": "",
     "delete_cmd_prefix": "del ",
     "library": "var_list.py",
     "varRefreshCmd": "print(var_dic_list())"
    },
    "r": {
     "delete_cmd_postfix": ") ",
     "delete_cmd_prefix": "rm(",
     "library": "var_list.r",
     "varRefreshCmd": "cat(var_dic_list()) "
    }
   },
   "types_to_exclude": [
    "module",
    "function",
    "builtin_function_or_method",
    "instance",
    "_Feature"
   ],
   "window_display": false
  }
 },
 "nbformat": 4,
 "nbformat_minor": 2
}
