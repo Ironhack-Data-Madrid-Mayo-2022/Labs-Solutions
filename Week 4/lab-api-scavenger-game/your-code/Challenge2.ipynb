{
 "cells": [
  {
   "cell_type": "markdown",
   "metadata": {
    "toc": true
   },
   "source": [
    "<h1>Table of Contents<span class=\"tocSkip\"></span></h1>\n",
    "<div class=\"toc\"><ul class=\"toc-item\"><li><span><a href=\"#Challenge-2:-Count-Commits\" data-toc-modified-id=\"Challenge-2:-Count-Commits-1\"><span class=\"toc-item-num\">1&nbsp;&nbsp;</span>Challenge 2: Count Commits</a></span></li></ul></div>"
   ]
  },
  {
   "cell_type": "markdown",
   "metadata": {},
   "source": [
    "# Challenge 2: Count Commits\n",
    "\n",
    "Count how many commits were made in the past week.\n",
    "\n",
    "Obtain all the commits made in the past week via API, which is a JSON array that contains multiple commit objects.\n",
    "\n",
    "Count how many commit objects are contained in the array."
   ]
  },
  {
   "cell_type": "markdown",
   "metadata": {},
   "source": [
    "⚠️ **Remember to limit your output before submission**."
   ]
  },
  {
   "cell_type": "code",
   "execution_count": 1,
   "metadata": {},
   "outputs": [
    {
     "data": {
      "text/plain": [
       "True"
      ]
     },
     "execution_count": 1,
     "metadata": {},
     "output_type": "execute_result"
    }
   ],
   "source": [
    "import os\n",
    "from dotenv import load_dotenv\n",
    "import json\n",
    "import requests\n",
    "import re\n",
    "load_dotenv()"
   ]
  },
  {
   "cell_type": "code",
   "execution_count": 2,
   "metadata": {},
   "outputs": [],
   "source": [
    "url_commits = \"/repos/Ironhack-Data-Madrid-Enero-2022/apuntes_clase/commits?since=2022-01-10T00:00:001\""
   ]
  },
  {
   "cell_type": "code",
   "execution_count": 3,
   "metadata": {},
   "outputs": [],
   "source": [
    "def requestGithub (endpoint):\n",
    "    \n",
    "    \n",
    "    '''This function get an endopoint as argument and returns a list with the response from GitHub API.\n",
    "    It imports the github token from the .env file(not uploaded to github) and gets the authentication ready.s\n",
    "    If you don't have your token in the .env file, it will raise an error.\n",
    "    The function takes the base url https://api.github.com for github API and adds the endpoint that gets as argument'''\n",
    "    \n",
    "    \n",
    "    token = os.getenv(\"GITHUB_APIKEY\")\n",
    "    if not token:\n",
    "        raise ValueError (\"Necesitas un token\")\n",
    "    direccion=\"https://api.github.com\"\n",
    "    url = direccion+endpoint\n",
    "\n",
    "    print(f\"Haciendo request a {url}\")\n",
    "    headers = {\n",
    "        \"Authorization\": f\"token {token}\"}\n",
    "\n",
    "    res = requests.get(url, headers=headers)\n",
    "    return res.json()"
   ]
  },
  {
   "cell_type": "code",
   "execution_count": 4,
   "metadata": {},
   "outputs": [
    {
     "name": "stdout",
     "output_type": "stream",
     "text": [
      "Haciendo request a https://api.github.com/repos/Ironhack-Data-Madrid-Enero-2022/apuntes_clase/commits?since=2022-01-10T00:00:001\n"
     ]
    }
   ],
   "source": [
    "commits_json = requestGithub(url_commits)"
   ]
  },
  {
   "cell_type": "code",
   "execution_count": 9,
   "metadata": {},
   "outputs": [
    {
     "data": {
      "text/plain": [
       "{'sha': 'bf52d704efc280664a913f8ae40bc225dc0abab0',\n",
       " 'node_id': 'C_kwDOGn3eENoAKGJmNTJkNzA0ZWZjMjgwNjY0YTkxM2Y4YWU0MGJjMjI1ZGMwYWJhYjA',\n",
       " 'commit': {'author': {'name': 'YonatanRA',\n",
       "   'email': 'yeho@mail.com',\n",
       "   'date': '2022-02-02T12:13:06Z'},\n",
       "  'committer': {'name': 'YonatanRA',\n",
       "   'email': 'yeho@mail.com',\n",
       "   'date': '2022-02-02T12:13:06Z'},\n",
       "  'message': 'pandas',\n",
       "  'tree': {'sha': '2ec8aa48d24126e9e1fcdb7c50b952cfb65016be',\n",
       "   'url': 'https://api.github.com/repos/Ironhack-Data-Madrid-Enero-2022/apuntes_clase/git/trees/2ec8aa48d24126e9e1fcdb7c50b952cfb65016be'},\n",
       "  'url': 'https://api.github.com/repos/Ironhack-Data-Madrid-Enero-2022/apuntes_clase/git/commits/bf52d704efc280664a913f8ae40bc225dc0abab0',\n",
       "  'comment_count': 0,\n",
       "  'verification': {'verified': False,\n",
       "   'reason': 'unsigned',\n",
       "   'signature': None,\n",
       "   'payload': None}},\n",
       " 'url': 'https://api.github.com/repos/Ironhack-Data-Madrid-Enero-2022/apuntes_clase/commits/bf52d704efc280664a913f8ae40bc225dc0abab0',\n",
       " 'html_url': 'https://github.com/Ironhack-Data-Madrid-Enero-2022/apuntes_clase/commit/bf52d704efc280664a913f8ae40bc225dc0abab0',\n",
       " 'comments_url': 'https://api.github.com/repos/Ironhack-Data-Madrid-Enero-2022/apuntes_clase/commits/bf52d704efc280664a913f8ae40bc225dc0abab0/comments',\n",
       " 'author': {'login': 'YonatanRA',\n",
       "  'id': 47545401,\n",
       "  'node_id': 'MDQ6VXNlcjQ3NTQ1NDAx',\n",
       "  'avatar_url': 'https://avatars.githubusercontent.com/u/47545401?v=4',\n",
       "  'gravatar_id': '',\n",
       "  'url': 'https://api.github.com/users/YonatanRA',\n",
       "  'html_url': 'https://github.com/YonatanRA',\n",
       "  'followers_url': 'https://api.github.com/users/YonatanRA/followers',\n",
       "  'following_url': 'https://api.github.com/users/YonatanRA/following{/other_user}',\n",
       "  'gists_url': 'https://api.github.com/users/YonatanRA/gists{/gist_id}',\n",
       "  'starred_url': 'https://api.github.com/users/YonatanRA/starred{/owner}{/repo}',\n",
       "  'subscriptions_url': 'https://api.github.com/users/YonatanRA/subscriptions',\n",
       "  'organizations_url': 'https://api.github.com/users/YonatanRA/orgs',\n",
       "  'repos_url': 'https://api.github.com/users/YonatanRA/repos',\n",
       "  'events_url': 'https://api.github.com/users/YonatanRA/events{/privacy}',\n",
       "  'received_events_url': 'https://api.github.com/users/YonatanRA/received_events',\n",
       "  'type': 'User',\n",
       "  'site_admin': False},\n",
       " 'committer': {'login': 'YonatanRA',\n",
       "  'id': 47545401,\n",
       "  'node_id': 'MDQ6VXNlcjQ3NTQ1NDAx',\n",
       "  'avatar_url': 'https://avatars.githubusercontent.com/u/47545401?v=4',\n",
       "  'gravatar_id': '',\n",
       "  'url': 'https://api.github.com/users/YonatanRA',\n",
       "  'html_url': 'https://github.com/YonatanRA',\n",
       "  'followers_url': 'https://api.github.com/users/YonatanRA/followers',\n",
       "  'following_url': 'https://api.github.com/users/YonatanRA/following{/other_user}',\n",
       "  'gists_url': 'https://api.github.com/users/YonatanRA/gists{/gist_id}',\n",
       "  'starred_url': 'https://api.github.com/users/YonatanRA/starred{/owner}{/repo}',\n",
       "  'subscriptions_url': 'https://api.github.com/users/YonatanRA/subscriptions',\n",
       "  'organizations_url': 'https://api.github.com/users/YonatanRA/orgs',\n",
       "  'repos_url': 'https://api.github.com/users/YonatanRA/repos',\n",
       "  'events_url': 'https://api.github.com/users/YonatanRA/events{/privacy}',\n",
       "  'received_events_url': 'https://api.github.com/users/YonatanRA/received_events',\n",
       "  'type': 'User',\n",
       "  'site_admin': False},\n",
       " 'parents': [{'sha': '18a4d886ab24d2f7f99a52db6d1ccfcb2aa6f5bc',\n",
       "   'url': 'https://api.github.com/repos/Ironhack-Data-Madrid-Enero-2022/apuntes_clase/commits/18a4d886ab24d2f7f99a52db6d1ccfcb2aa6f5bc',\n",
       "   'html_url': 'https://github.com/Ironhack-Data-Madrid-Enero-2022/apuntes_clase/commit/18a4d886ab24d2f7f99a52db6d1ccfcb2aa6f5bc'}]}"
      ]
     },
     "execution_count": 9,
     "metadata": {},
     "output_type": "execute_result"
    }
   ],
   "source": [
    "commits_json [0]"
   ]
  },
  {
   "cell_type": "code",
   "execution_count": 10,
   "metadata": {},
   "outputs": [],
   "source": [
    "#print(commits_json)\n",
    "autor = [cm[\"commit\"][\"author\"] [\"name\"]for cm in commits_json]"
   ]
  },
  {
   "cell_type": "code",
   "execution_count": 8,
   "metadata": {
    "scrolled": true
   },
   "outputs": [
    {
     "name": "stdout",
     "output_type": "stream",
     "text": [
      "{'“Fominayasg”', 'agalvezcorell', 'YonatanRA'}\n"
     ]
    }
   ],
   "source": [
    "len(commits_json)\n",
    "print(set(autor))"
   ]
  }
 ],
 "metadata": {
  "kernelspec": {
   "display_name": "Python 3 (ipykernel)",
   "language": "python",
   "name": "python3"
  },
  "language_info": {
   "codemirror_mode": {
    "name": "ipython",
    "version": 3
   },
   "file_extension": ".py",
   "mimetype": "text/x-python",
   "name": "python",
   "nbconvert_exporter": "python",
   "pygments_lexer": "ipython3",
   "version": "3.9.12"
  },
  "toc": {
   "base_numbering": 1,
   "nav_menu": {},
   "number_sections": true,
   "sideBar": true,
   "skip_h1_title": false,
   "title_cell": "Table of Contents",
   "title_sidebar": "Contents",
   "toc_cell": true,
   "toc_position": {},
   "toc_section_display": true,
   "toc_window_display": false
  },
  "varInspector": {
   "cols": {
    "lenName": 16,
    "lenType": 16,
    "lenVar": 40
   },
   "kernels_config": {
    "python": {
     "delete_cmd_postfix": "",
     "delete_cmd_prefix": "del ",
     "library": "var_list.py",
     "varRefreshCmd": "print(var_dic_list())"
    },
    "r": {
     "delete_cmd_postfix": ") ",
     "delete_cmd_prefix": "rm(",
     "library": "var_list.r",
     "varRefreshCmd": "cat(var_dic_list()) "
    }
   },
   "types_to_exclude": [
    "module",
    "function",
    "builtin_function_or_method",
    "instance",
    "_Feature"
   ],
   "window_display": false
  }
 },
 "nbformat": 4,
 "nbformat_minor": 4
}
