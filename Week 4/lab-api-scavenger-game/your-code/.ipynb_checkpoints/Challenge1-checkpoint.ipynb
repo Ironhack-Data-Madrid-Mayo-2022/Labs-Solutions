{
 "cells": [
  {
   "cell_type": "markdown",
   "metadata": {
    "toc": true
   },
   "source": [
    "<h1>Table of Contents<span class=\"tocSkip\"></span></h1>\n",
    "<div class=\"toc\"><ul class=\"toc-item\"><li><span><a href=\"#Challenge-1:-Fork-Languages\" data-toc-modified-id=\"Challenge-1:-Fork-Languages-1\"><span class=\"toc-item-num\">1&nbsp;&nbsp;</span>Challenge 1: Fork Languages</a></span></li></ul></div>"
   ]
  },
  {
   "cell_type": "code",
   "execution_count": 1,
   "metadata": {},
   "outputs": [
    {
     "data": {
      "text/plain": [
       "True"
      ]
     },
     "execution_count": 1,
     "metadata": {},
     "output_type": "execute_result"
    }
   ],
   "source": [
    "import os\n",
    "from dotenv import load_dotenv\n",
    "import re\n",
    "load_dotenv()"
   ]
  },
  {
   "cell_type": "markdown",
   "metadata": {},
   "source": [
    "Only if you're using your environmental variable eith the `.env` file, import/install the following modules. Otherwise it is not necessary:\n",
    "\n",
    "https://pypi.org/project/python-dotenv/"
   ]
  },
  {
   "cell_type": "code",
   "execution_count": null,
   "metadata": {},
   "outputs": [],
   "source": [
    "import json\n",
    "import requests"
   ]
  },
  {
   "cell_type": "markdown",
   "metadata": {},
   "source": [
    "#pip install python-dotenv"
   ]
  },
  {
   "cell_type": "code",
   "execution_count": null,
   "metadata": {},
   "outputs": [],
   "source": [
    "load_dotenv()"
   ]
  },
  {
   "cell_type": "markdown",
   "metadata": {},
   "source": [
    "# Challenge 1: Fork Languages\n",
    "\n",
    "You will find out how many programming languages are used among all the forks created from the main lab repo of your bootcamp. Assuming the main lab repo is ironhack-datalabs/datamad1020-rev, you will:\n",
    "\n",
    "1. Obtain the full list of forks created from the main lab repo via Github API.\n",
    "\n",
    "2. Loop the JSON response to find out the language attribute of each fork. Use an array to store the language attributes of each fork.\n",
    "\n",
    "Hint: Each language should appear only once in your array.\n",
    "\n",
    "3. Print the language array. It should be something like:\n",
    "\n",
    "[\"Python\", \"Jupyter Notebook\", \"HTML\"]"
   ]
  },
  {
   "cell_type": "markdown",
   "metadata": {},
   "source": [
    "**HINT:**: Create a list with every **language_url** you find in every fork "
   ]
  },
  {
   "cell_type": "markdown",
   "metadata": {},
   "source": [
    "⚠️ **Remember to limit your output before submission**."
   ]
  },
  {
   "cell_type": "code",
   "execution_count": 6,
   "metadata": {},
   "outputs": [],
   "source": [
    "#here we specify the endopoint for our request\n",
    "#We need the endpoint for the specific repository\n",
    "end_forks = \"/repos/Ironhack-Data-Madrid-Enero-2022/apuntes_clase/forks\""
   ]
  },
  {
   "cell_type": "code",
   "execution_count": 3,
   "metadata": {},
   "outputs": [],
   "source": [
    "def requestGithub (endpoint):\n",
    "    \n",
    "    \n",
    "    '''This function get an endopoint as argument and returns a list with the response from GitHub API.\n",
    "    It imports the github token from the .env file(not uploaded to github) and gets the authentication ready.s\n",
    "    If you don't have your token in the .env file, it will raise an error.\n",
    "    The function takes the base url https://api.github.com for github API and adds the endpoint that gets as argument'''\n",
    "    \n",
    "    \n",
    "    token = os.getenv(\"GITHUB_APIKEY\")\n",
    "    if not token:\n",
    "        raise ValueError (\"Necesitas un token\")\n",
    "    direccion=\"https://api.github.com\"\n",
    "    url = direccion+endpoint\n",
    "\n",
    "    print(f\"Haciendo request a {url}\")\n",
    "    headers = {\n",
    "        \"Authorization\": f\"token {token}\"}\n",
    "\n",
    "    res = requests.get(url, headers=headers)\n",
    "    return res.json()"
   ]
  },
  {
   "cell_type": "code",
   "execution_count": 7,
   "metadata": {
    "scrolled": true
   },
   "outputs": [
    {
     "name": "stdout",
     "output_type": "stream",
     "text": [
      "Haciendo request a https://api.github.com/repos/Ironhack-Data-Madrid-Enero-2022/apuntes_clase/forks\n"
     ]
    }
   ],
   "source": [
    "forks = requestGithub(end_forks) #We call the function to make the request"
   ]
  },
  {
   "cell_type": "code",
   "execution_count": 13,
   "metadata": {},
   "outputs": [
    {
     "data": {
      "text/plain": [
       "{'id': 454734190,\n",
       " 'node_id': 'R_kgDOGxqxbg',\n",
       " 'name': 'apuntes_clase',\n",
       " 'full_name': 'VictorPablo12/apuntes_clase',\n",
       " 'private': False,\n",
       " 'owner': {'login': 'VictorPablo12',\n",
       "  'id': 94057227,\n",
       "  'node_id': 'U_kgDOBZszCw',\n",
       "  'avatar_url': 'https://avatars.githubusercontent.com/u/94057227?v=4',\n",
       "  'gravatar_id': '',\n",
       "  'url': 'https://api.github.com/users/VictorPablo12',\n",
       "  'html_url': 'https://github.com/VictorPablo12',\n",
       "  'followers_url': 'https://api.github.com/users/VictorPablo12/followers',\n",
       "  'following_url': 'https://api.github.com/users/VictorPablo12/following{/other_user}',\n",
       "  'gists_url': 'https://api.github.com/users/VictorPablo12/gists{/gist_id}',\n",
       "  'starred_url': 'https://api.github.com/users/VictorPablo12/starred{/owner}{/repo}',\n",
       "  'subscriptions_url': 'https://api.github.com/users/VictorPablo12/subscriptions',\n",
       "  'organizations_url': 'https://api.github.com/users/VictorPablo12/orgs',\n",
       "  'repos_url': 'https://api.github.com/users/VictorPablo12/repos',\n",
       "  'events_url': 'https://api.github.com/users/VictorPablo12/events{/privacy}',\n",
       "  'received_events_url': 'https://api.github.com/users/VictorPablo12/received_events',\n",
       "  'type': 'User',\n",
       "  'site_admin': False},\n",
       " 'html_url': 'https://github.com/VictorPablo12/apuntes_clase',\n",
       " 'description': None,\n",
       " 'fork': True,\n",
       " 'url': 'https://api.github.com/repos/VictorPablo12/apuntes_clase',\n",
       " 'forks_url': 'https://api.github.com/repos/VictorPablo12/apuntes_clase/forks',\n",
       " 'keys_url': 'https://api.github.com/repos/VictorPablo12/apuntes_clase/keys{/key_id}',\n",
       " 'collaborators_url': 'https://api.github.com/repos/VictorPablo12/apuntes_clase/collaborators{/collaborator}',\n",
       " 'teams_url': 'https://api.github.com/repos/VictorPablo12/apuntes_clase/teams',\n",
       " 'hooks_url': 'https://api.github.com/repos/VictorPablo12/apuntes_clase/hooks',\n",
       " 'issue_events_url': 'https://api.github.com/repos/VictorPablo12/apuntes_clase/issues/events{/number}',\n",
       " 'events_url': 'https://api.github.com/repos/VictorPablo12/apuntes_clase/events',\n",
       " 'assignees_url': 'https://api.github.com/repos/VictorPablo12/apuntes_clase/assignees{/user}',\n",
       " 'branches_url': 'https://api.github.com/repos/VictorPablo12/apuntes_clase/branches{/branch}',\n",
       " 'tags_url': 'https://api.github.com/repos/VictorPablo12/apuntes_clase/tags',\n",
       " 'blobs_url': 'https://api.github.com/repos/VictorPablo12/apuntes_clase/git/blobs{/sha}',\n",
       " 'git_tags_url': 'https://api.github.com/repos/VictorPablo12/apuntes_clase/git/tags{/sha}',\n",
       " 'git_refs_url': 'https://api.github.com/repos/VictorPablo12/apuntes_clase/git/refs{/sha}',\n",
       " 'trees_url': 'https://api.github.com/repos/VictorPablo12/apuntes_clase/git/trees{/sha}',\n",
       " 'statuses_url': 'https://api.github.com/repos/VictorPablo12/apuntes_clase/statuses/{sha}',\n",
       " 'languages_url': 'https://api.github.com/repos/VictorPablo12/apuntes_clase/languages',\n",
       " 'stargazers_url': 'https://api.github.com/repos/VictorPablo12/apuntes_clase/stargazers',\n",
       " 'contributors_url': 'https://api.github.com/repos/VictorPablo12/apuntes_clase/contributors',\n",
       " 'subscribers_url': 'https://api.github.com/repos/VictorPablo12/apuntes_clase/subscribers',\n",
       " 'subscription_url': 'https://api.github.com/repos/VictorPablo12/apuntes_clase/subscription',\n",
       " 'commits_url': 'https://api.github.com/repos/VictorPablo12/apuntes_clase/commits{/sha}',\n",
       " 'git_commits_url': 'https://api.github.com/repos/VictorPablo12/apuntes_clase/git/commits{/sha}',\n",
       " 'comments_url': 'https://api.github.com/repos/VictorPablo12/apuntes_clase/comments{/number}',\n",
       " 'issue_comment_url': 'https://api.github.com/repos/VictorPablo12/apuntes_clase/issues/comments{/number}',\n",
       " 'contents_url': 'https://api.github.com/repos/VictorPablo12/apuntes_clase/contents/{+path}',\n",
       " 'compare_url': 'https://api.github.com/repos/VictorPablo12/apuntes_clase/compare/{base}...{head}',\n",
       " 'merges_url': 'https://api.github.com/repos/VictorPablo12/apuntes_clase/merges',\n",
       " 'archive_url': 'https://api.github.com/repos/VictorPablo12/apuntes_clase/{archive_format}{/ref}',\n",
       " 'downloads_url': 'https://api.github.com/repos/VictorPablo12/apuntes_clase/downloads',\n",
       " 'issues_url': 'https://api.github.com/repos/VictorPablo12/apuntes_clase/issues{/number}',\n",
       " 'pulls_url': 'https://api.github.com/repos/VictorPablo12/apuntes_clase/pulls{/number}',\n",
       " 'milestones_url': 'https://api.github.com/repos/VictorPablo12/apuntes_clase/milestones{/number}',\n",
       " 'notifications_url': 'https://api.github.com/repos/VictorPablo12/apuntes_clase/notifications{?since,all,participating}',\n",
       " 'labels_url': 'https://api.github.com/repos/VictorPablo12/apuntes_clase/labels{/name}',\n",
       " 'releases_url': 'https://api.github.com/repos/VictorPablo12/apuntes_clase/releases{/id}',\n",
       " 'deployments_url': 'https://api.github.com/repos/VictorPablo12/apuntes_clase/deployments',\n",
       " 'created_at': '2022-02-02T10:42:38Z',\n",
       " 'updated_at': '2022-01-10T12:36:54Z',\n",
       " 'pushed_at': '2022-02-02T10:03:05Z',\n",
       " 'git_url': 'git://github.com/VictorPablo12/apuntes_clase.git',\n",
       " 'ssh_url': 'git@github.com:VictorPablo12/apuntes_clase.git',\n",
       " 'clone_url': 'https://github.com/VictorPablo12/apuntes_clase.git',\n",
       " 'svn_url': 'https://github.com/VictorPablo12/apuntes_clase',\n",
       " 'homepage': None,\n",
       " 'size': 60868,\n",
       " 'stargazers_count': 0,\n",
       " 'watchers_count': 0,\n",
       " 'language': None,\n",
       " 'has_issues': False,\n",
       " 'has_projects': True,\n",
       " 'has_downloads': True,\n",
       " 'has_wiki': True,\n",
       " 'has_pages': False,\n",
       " 'forks_count': 0,\n",
       " 'mirror_url': None,\n",
       " 'archived': False,\n",
       " 'disabled': False,\n",
       " 'open_issues_count': 0,\n",
       " 'license': None,\n",
       " 'allow_forking': True,\n",
       " 'is_template': False,\n",
       " 'topics': [],\n",
       " 'visibility': 'public',\n",
       " 'forks': 0,\n",
       " 'open_issues': 0,\n",
       " 'watchers': 0,\n",
       " 'default_branch': 'main',\n",
       " 'permissions': {'admin': False,\n",
       "  'maintain': False,\n",
       "  'push': False,\n",
       "  'triage': False,\n",
       "  'pull': True}}"
      ]
     },
     "execution_count": 13,
     "metadata": {},
     "output_type": "execute_result"
    }
   ],
   "source": [
    "forks [0]\n",
    "#this is the info we get, now we have to dive inside the list of dictionaries to find the languages"
   ]
  },
  {
   "cell_type": "code",
   "execution_count": 9,
   "metadata": {},
   "outputs": [],
   "source": [
    "'''We realize that each element of the list is a dictionary with the information of a forked repository, \n",
    "inside it we need to get the language trough the key 'language_url' and then iterate through the list of url'''\n",
    "idiomas = [idioma[\"languages_url\"] for idioma in forks]\n",
    "idiomasp = [re.findall(r\"/repos.*\", idioma)for idioma in idiomas]\n",
    "listaidiomas = [i[0] for i in idiomasp]"
   ]
  },
  {
   "cell_type": "code",
   "execution_count": 10,
   "metadata": {},
   "outputs": [
    {
     "name": "stdout",
     "output_type": "stream",
     "text": [
      "Haciendo request a https://api.github.com/repos/VictorPablo12/apuntes_clase/languages\n",
      "Haciendo request a https://api.github.com/repos/Marilyn499/apuntes_clase/languages\n",
      "Haciendo request a https://api.github.com/repos/AntonioLopga12/apuntes_clase/languages\n",
      "Haciendo request a https://api.github.com/repos/mariozapatero/apuntes_clase/languages\n",
      "Haciendo request a https://api.github.com/repos/DiSanchz/apuntes_clase/languages\n",
      "Haciendo request a https://api.github.com/repos/jesuschao/apuntes_clase/languages\n",
      "Haciendo request a https://api.github.com/repos/SergioMB12/apuntes_clase/languages\n",
      "Haciendo request a https://api.github.com/repos/sergiomessaoudi/apuntes_clase/languages\n",
      "Haciendo request a https://api.github.com/repos/JuanaMG/apuntes_clase/languages\n",
      "Haciendo request a https://api.github.com/repos/ce-valle/apuntes_clase/languages\n",
      "Haciendo request a https://api.github.com/repos/Pomilusky/apuntes_clase/languages\n",
      "Haciendo request a https://api.github.com/repos/rodrigogalan/apuntes_clase/languages\n",
      "Haciendo request a https://api.github.com/repos/pablomora213/apuntes_clase/languages\n",
      "Haciendo request a https://api.github.com/repos/beihglez/apuntes_clase/languages\n",
      "Haciendo request a https://api.github.com/repos/IsabelGarcia11/apuntes_clase/languages\n",
      "Haciendo request a https://api.github.com/repos/evaarquero/apuntes_clase/languages\n"
     ]
    }
   ],
   "source": [
    "idiomas_json = list(map(requestGithub,listaidiomas))"
   ]
  },
  {
   "cell_type": "code",
   "execution_count": 11,
   "metadata": {},
   "outputs": [
    {
     "data": {
      "text/plain": [
       "{'Jupyter Notebook', 'Python'}"
      ]
     },
     "execution_count": 11,
     "metadata": {},
     "output_type": "execute_result"
    }
   ],
   "source": [
    "set([lenguaje for e in idiomas_json for lenguaje in e.keys()]) #to get only the unique values"
   ]
  }
 ],
 "metadata": {
  "kernelspec": {
   "display_name": "IronHack",
   "language": "python",
   "name": "ironhack"
  },
  "language_info": {
   "codemirror_mode": {
    "name": "ipython",
    "version": 3
   },
   "file_extension": ".py",
   "mimetype": "text/x-python",
   "name": "python",
   "nbconvert_exporter": "python",
   "pygments_lexer": "ipython3",
   "version": "3.9.12"
  },
  "toc": {
   "base_numbering": 1,
   "nav_menu": {},
   "number_sections": true,
   "sideBar": true,
   "skip_h1_title": false,
   "title_cell": "Table of Contents",
   "title_sidebar": "Contents",
   "toc_cell": true,
   "toc_position": {},
   "toc_section_display": true,
   "toc_window_display": false
  },
  "varInspector": {
   "cols": {
    "lenName": 16,
    "lenType": 16,
    "lenVar": 40
   },
   "kernels_config": {
    "python": {
     "delete_cmd_postfix": "",
     "delete_cmd_prefix": "del ",
     "library": "var_list.py",
     "varRefreshCmd": "print(var_dic_list())"
    },
    "r": {
     "delete_cmd_postfix": ") ",
     "delete_cmd_prefix": "rm(",
     "library": "var_list.r",
     "varRefreshCmd": "cat(var_dic_list()) "
    }
   },
   "types_to_exclude": [
    "module",
    "function",
    "builtin_function_or_method",
    "instance",
    "_Feature"
   ],
   "window_display": false
  }
 },
 "nbformat": 4,
 "nbformat_minor": 4
}
